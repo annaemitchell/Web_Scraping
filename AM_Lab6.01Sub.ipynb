{
 "cells": [
  {
   "cell_type": "code",
   "execution_count": 2,
   "metadata": {},
   "outputs": [],
   "source": [
    "# Import libaries\n",
    "import pandas as pd\n",
    "import requests\n",
    "import html\n",
    "from bs4 import BeautifulSoup\n"
   ]
  },
  {
   "cell_type": "markdown",
   "metadata": {},
   "source": [
    "### Step 1: Create a soup object from the home page"
   ]
  },
  {
   "cell_type": "code",
   "execution_count": 3,
   "metadata": {},
   "outputs": [],
   "source": [
    "url = 'https://pages.git.generalassemb.ly/rldaggie/for-scraping/'\n",
    "res = requests.get(url)"
   ]
  },
  {
   "cell_type": "code",
   "execution_count": 4,
   "metadata": {},
   "outputs": [
    {
     "data": {
      "text/plain": [
       "200"
      ]
     },
     "execution_count": 4,
     "metadata": {},
     "output_type": "execute_result"
    }
   ],
   "source": [
    "res.status_code"
   ]
  },
  {
   "cell_type": "code",
   "execution_count": 5,
   "metadata": {},
   "outputs": [],
   "source": [
    "soup = BeautifulSoup(res.content, 'lxml')"
   ]
  },
  {
   "cell_type": "code",
   "execution_count": 6,
   "metadata": {},
   "outputs": [
    {
     "name": "stdout",
     "output_type": "stream",
     "text": [
      "<!DOCTYPE html>\n",
      "<html lang=\"en\">\n",
      " <head>\n",
      "  <meta charset=\"utf-8\"/>\n",
      "  <meta content=\"IE=edge\" http-equiv=\"X-UA-Compatible\"/>\n",
      "  <meta content=\"width=device-width, initial-scale=1.0\" name=\"viewport\"/>\n",
      "  <title>\n",
      "   Nutrition Information\n",
      "  </title>\n",
      "  <link crossorigin=\"anonymous\" href=\"https://stackpath.bootstrapcdn.com/bootstrap/4.4.1/css/bootstrap.min.css\" integrity=\"sha384-Vkoo8x4CGsO3+Hhxv8T/Q5PaXtkKtu6ug5TOeNV6gBiFeWPGFN9MuhOf23Q9Ifjh\" rel=\"stylesheet\"/>\n",
      " </head>\n",
      " <body>\n",
      "  <header>\n",
      "   <section class=\"container\">\n",
      "    <nav class=\"navbar navbar-expand-lg navbar-light bg-light\" role=\"navigation\">\n",
      "     <a class=\"navbar-brand\" href=\"/\">\n",
      "      Nutrition Information\n",
      "     </a>\n",
      "    </nav>\n",
      "   </section>\n",
      "  </header>\n",
      "  <main class=\"container\" role=\"main\">\n",
      "   <br/>\n",
      "   <div class=\"alert alert-danger\">\n",
      "    NOTE: This data is super old and rife with errors. It's meant for scraping practice only.\n",
      "   </div>\n",
      "   <table class=\"table\" id=\"restaurants\">\n",
      "    <thead>\n",
      "     <tr>\n",
      "      <th>\n",
      "       Name\n",
      "      </th>\n"
     ]
    }
   ],
   "source": [
    "#makes more readable\n",
    "print(soup.prettify()[:1000])"
   ]
  },
  {
   "cell_type": "code",
   "execution_count": 7,
   "metadata": {},
   "outputs": [
    {
     "name": "stdout",
     "output_type": "stream",
     "text": [
      "<title>Nutrition Information</title>\n"
     ]
    }
   ],
   "source": [
    "print(soup.title)"
   ]
  },
  {
   "cell_type": "code",
   "execution_count": 8,
   "metadata": {},
   "outputs": [
    {
     "name": "stdout",
     "output_type": "stream",
     "text": [
      "<a class=\"navbar-brand\" href=\"/\">Nutrition Information</a>\n"
     ]
    }
   ],
   "source": [
    "print(soup.a)"
   ]
  },
  {
   "cell_type": "markdown",
   "metadata": {},
   "source": [
    "### Step 2: Scrape the home page soup for every restaurant\n",
    "\n",
    "Note: Your best bet is to create a list of dictionaries, one for each restaurant. Each dictionary contains the restaurant's name and path from the `href`. The result of your scrape should look something like this:\n",
    "\n",
    "```python\n",
    "restaurants = [\n",
    "    {'name': 'A&W Restaurants', 'href': 'restaurants/1.html'}, \n",
    "    {'name': \"Applebee's\", 'href': 'restaurants/2.html'},\n",
    "    ...\n",
    "]\n",
    "```"
   ]
  },
  {
   "cell_type": "code",
   "execution_count": 41,
   "metadata": {},
   "outputs": [],
   "source": [
    "div = soup.find_all('table')"
   ]
  },
  {
   "cell_type": "code",
   "execution_count": 42,
   "metadata": {},
   "outputs": [],
   "source": [
    "restaurant_table = soup.find('table', {'id': 'restaurants'})"
   ]
  },
  {
   "cell_type": "code",
   "execution_count": 43,
   "metadata": {},
   "outputs": [],
   "source": [
    "table1 = restaurant_table.find_all('a')"
   ]
  },
  {
   "cell_type": "code",
   "execution_count": 44,
   "metadata": {},
   "outputs": [
    {
     "data": {
      "text/plain": [
       "'A&W Restaurants'"
      ]
     },
     "execution_count": 44,
     "metadata": {},
     "output_type": "execute_result"
    }
   ],
   "source": [
    "table1[0].text"
   ]
  },
  {
   "cell_type": "code",
   "execution_count": 45,
   "metadata": {},
   "outputs": [],
   "source": [
    "restaurants = []\n",
    "\n",
    "for row in table1:\n",
    "    rest = {}\n",
    "    rest['name'] = row.text\n",
    "    rest['href'] = row['href']\n",
    "    restaurants.append(rest)"
   ]
  },
  {
   "cell_type": "code",
   "execution_count": 46,
   "metadata": {},
   "outputs": [],
   "source": [
    "table2 = pd.DataFrame(restaurants)"
   ]
  },
  {
   "cell_type": "code",
   "execution_count": 47,
   "metadata": {},
   "outputs": [
    {
     "data": {
      "text/html": [
       "<div>\n",
       "<style scoped>\n",
       "    .dataframe tbody tr th:only-of-type {\n",
       "        vertical-align: middle;\n",
       "    }\n",
       "\n",
       "    .dataframe tbody tr th {\n",
       "        vertical-align: top;\n",
       "    }\n",
       "\n",
       "    .dataframe thead th {\n",
       "        text-align: right;\n",
       "    }\n",
       "</style>\n",
       "<table border=\"1\" class=\"dataframe\">\n",
       "  <thead>\n",
       "    <tr style=\"text-align: right;\">\n",
       "      <th></th>\n",
       "      <th>name</th>\n",
       "      <th>href</th>\n",
       "    </tr>\n",
       "  </thead>\n",
       "  <tbody>\n",
       "    <tr>\n",
       "      <th>0</th>\n",
       "      <td>A&amp;W Restaurants</td>\n",
       "      <td>restaurants/1.html</td>\n",
       "    </tr>\n",
       "    <tr>\n",
       "      <th>1</th>\n",
       "      <td>Applebee's</td>\n",
       "      <td>restaurants/2.html</td>\n",
       "    </tr>\n",
       "    <tr>\n",
       "      <th>2</th>\n",
       "      <td>Arby's</td>\n",
       "      <td>restaurants/3.html</td>\n",
       "    </tr>\n",
       "    <tr>\n",
       "      <th>3</th>\n",
       "      <td>Atlanta Bread Company</td>\n",
       "      <td>restaurants/4.html</td>\n",
       "    </tr>\n",
       "    <tr>\n",
       "      <th>4</th>\n",
       "      <td>Bojangle's Famous Chicken 'n Biscuits</td>\n",
       "      <td>restaurants/5.html</td>\n",
       "    </tr>\n",
       "    <tr>\n",
       "      <th>5</th>\n",
       "      <td>Buffalo Wild Wings</td>\n",
       "      <td>restaurants/6.html</td>\n",
       "    </tr>\n",
       "    <tr>\n",
       "      <th>6</th>\n",
       "      <td>Burger King</td>\n",
       "      <td>restaurants/7.html</td>\n",
       "    </tr>\n",
       "    <tr>\n",
       "      <th>7</th>\n",
       "      <td>Captain D's</td>\n",
       "      <td>restaurants/8.html</td>\n",
       "    </tr>\n",
       "    <tr>\n",
       "      <th>8</th>\n",
       "      <td>Carl's Jr.</td>\n",
       "      <td>restaurants/9.html</td>\n",
       "    </tr>\n",
       "    <tr>\n",
       "      <th>9</th>\n",
       "      <td>Charley's Grilled Subs</td>\n",
       "      <td>restaurants/10.html</td>\n",
       "    </tr>\n",
       "    <tr>\n",
       "      <th>10</th>\n",
       "      <td>Chick-fil-A</td>\n",
       "      <td>restaurants/11.html</td>\n",
       "    </tr>\n",
       "    <tr>\n",
       "      <th>11</th>\n",
       "      <td>Chili's</td>\n",
       "      <td>restaurants/12.html</td>\n",
       "    </tr>\n",
       "    <tr>\n",
       "      <th>12</th>\n",
       "      <td>Chipotle Mexican Grill</td>\n",
       "      <td>restaurants/13.html</td>\n",
       "    </tr>\n",
       "    <tr>\n",
       "      <th>13</th>\n",
       "      <td>Church's</td>\n",
       "      <td>restaurants/14.html</td>\n",
       "    </tr>\n",
       "    <tr>\n",
       "      <th>14</th>\n",
       "      <td>Corner Bakery Cafe</td>\n",
       "      <td>restaurants/15.html</td>\n",
       "    </tr>\n",
       "    <tr>\n",
       "      <th>15</th>\n",
       "      <td>Dairy Queen</td>\n",
       "      <td>restaurants/16.html</td>\n",
       "    </tr>\n",
       "    <tr>\n",
       "      <th>16</th>\n",
       "      <td>Denny's</td>\n",
       "      <td>restaurants/17.html</td>\n",
       "    </tr>\n",
       "    <tr>\n",
       "      <th>17</th>\n",
       "      <td>El Pollo Loco</td>\n",
       "      <td>restaurants/18.html</td>\n",
       "    </tr>\n",
       "    <tr>\n",
       "      <th>18</th>\n",
       "      <td>FATZ</td>\n",
       "      <td>restaurants/19.html</td>\n",
       "    </tr>\n",
       "    <tr>\n",
       "      <th>19</th>\n",
       "      <td>Fazoli's</td>\n",
       "      <td>restaurants/20.html</td>\n",
       "    </tr>\n",
       "    <tr>\n",
       "      <th>20</th>\n",
       "      <td>Five Guys Burgers and Fries</td>\n",
       "      <td>restaurants/21.html</td>\n",
       "    </tr>\n",
       "    <tr>\n",
       "      <th>21</th>\n",
       "      <td>Golden Chick</td>\n",
       "      <td>restaurants/22.html</td>\n",
       "    </tr>\n",
       "    <tr>\n",
       "      <th>22</th>\n",
       "      <td>Hardee's</td>\n",
       "      <td>restaurants/23.html</td>\n",
       "    </tr>\n",
       "    <tr>\n",
       "      <th>23</th>\n",
       "      <td>IHOP</td>\n",
       "      <td>restaurants/24.html</td>\n",
       "    </tr>\n",
       "    <tr>\n",
       "      <th>24</th>\n",
       "      <td>In-N-Out Burger</td>\n",
       "      <td>restaurants/25.html</td>\n",
       "    </tr>\n",
       "    <tr>\n",
       "      <th>25</th>\n",
       "      <td>Jack in the Box</td>\n",
       "      <td>restaurants/26.html</td>\n",
       "    </tr>\n",
       "    <tr>\n",
       "      <th>26</th>\n",
       "      <td>Jimmy Johns</td>\n",
       "      <td>restaurants/27.html</td>\n",
       "    </tr>\n",
       "    <tr>\n",
       "      <th>27</th>\n",
       "      <td>Joe's Crab Shack</td>\n",
       "      <td>restaurants/28.html</td>\n",
       "    </tr>\n",
       "    <tr>\n",
       "      <th>28</th>\n",
       "      <td>KFC</td>\n",
       "      <td>restaurants/29.html</td>\n",
       "    </tr>\n",
       "    <tr>\n",
       "      <th>29</th>\n",
       "      <td>McDonald's</td>\n",
       "      <td>restaurants/30.html</td>\n",
       "    </tr>\n",
       "    <tr>\n",
       "      <th>30</th>\n",
       "      <td>O'Charley's</td>\n",
       "      <td>restaurants/31.html</td>\n",
       "    </tr>\n",
       "    <tr>\n",
       "      <th>31</th>\n",
       "      <td>Olive Garden</td>\n",
       "      <td>restaurants/32.html</td>\n",
       "    </tr>\n",
       "    <tr>\n",
       "      <th>32</th>\n",
       "      <td>Outback Steakhouse</td>\n",
       "      <td>restaurants/33.html</td>\n",
       "    </tr>\n",
       "    <tr>\n",
       "      <th>33</th>\n",
       "      <td>Panda Express</td>\n",
       "      <td>restaurants/34.html</td>\n",
       "    </tr>\n",
       "    <tr>\n",
       "      <th>34</th>\n",
       "      <td>Panera Bread</td>\n",
       "      <td>restaurants/35.html</td>\n",
       "    </tr>\n",
       "    <tr>\n",
       "      <th>35</th>\n",
       "      <td>Popeye's</td>\n",
       "      <td>restaurants/36.html</td>\n",
       "    </tr>\n",
       "    <tr>\n",
       "      <th>36</th>\n",
       "      <td>Quiznos</td>\n",
       "      <td>restaurants/37.html</td>\n",
       "    </tr>\n",
       "    <tr>\n",
       "      <th>37</th>\n",
       "      <td>Red Robin Gourmet Burgers</td>\n",
       "      <td>restaurants/38.html</td>\n",
       "    </tr>\n",
       "    <tr>\n",
       "      <th>38</th>\n",
       "      <td>Romano's Macaroni Grill</td>\n",
       "      <td>restaurants/39.html</td>\n",
       "    </tr>\n",
       "    <tr>\n",
       "      <th>39</th>\n",
       "      <td>Ruby Tuesday</td>\n",
       "      <td>restaurants/40.html</td>\n",
       "    </tr>\n",
       "    <tr>\n",
       "      <th>40</th>\n",
       "      <td>Subway</td>\n",
       "      <td>restaurants/41.html</td>\n",
       "    </tr>\n",
       "    <tr>\n",
       "      <th>41</th>\n",
       "      <td>Taco Bell</td>\n",
       "      <td>restaurants/42.html</td>\n",
       "    </tr>\n",
       "    <tr>\n",
       "      <th>42</th>\n",
       "      <td>Taco Bueno</td>\n",
       "      <td>restaurants/43.html</td>\n",
       "    </tr>\n",
       "    <tr>\n",
       "      <th>43</th>\n",
       "      <td>Wendy's</td>\n",
       "      <td>restaurants/44.html</td>\n",
       "    </tr>\n",
       "  </tbody>\n",
       "</table>\n",
       "</div>"
      ],
      "text/plain": [
       "                                     name                 href\n",
       "0                         A&W Restaurants   restaurants/1.html\n",
       "1                              Applebee's   restaurants/2.html\n",
       "2                                  Arby's   restaurants/3.html\n",
       "3                   Atlanta Bread Company   restaurants/4.html\n",
       "4   Bojangle's Famous Chicken 'n Biscuits   restaurants/5.html\n",
       "5                      Buffalo Wild Wings   restaurants/6.html\n",
       "6                             Burger King   restaurants/7.html\n",
       "7                             Captain D's   restaurants/8.html\n",
       "8                              Carl's Jr.   restaurants/9.html\n",
       "9                  Charley's Grilled Subs  restaurants/10.html\n",
       "10                            Chick-fil-A  restaurants/11.html\n",
       "11                                Chili's  restaurants/12.html\n",
       "12                 Chipotle Mexican Grill  restaurants/13.html\n",
       "13                               Church's  restaurants/14.html\n",
       "14                     Corner Bakery Cafe  restaurants/15.html\n",
       "15                            Dairy Queen  restaurants/16.html\n",
       "16                                Denny's  restaurants/17.html\n",
       "17                          El Pollo Loco  restaurants/18.html\n",
       "18                                   FATZ  restaurants/19.html\n",
       "19                               Fazoli's  restaurants/20.html\n",
       "20            Five Guys Burgers and Fries  restaurants/21.html\n",
       "21                           Golden Chick  restaurants/22.html\n",
       "22                               Hardee's  restaurants/23.html\n",
       "23                                   IHOP  restaurants/24.html\n",
       "24                        In-N-Out Burger  restaurants/25.html\n",
       "25                        Jack in the Box  restaurants/26.html\n",
       "26                            Jimmy Johns  restaurants/27.html\n",
       "27                       Joe's Crab Shack  restaurants/28.html\n",
       "28                                    KFC  restaurants/29.html\n",
       "29                             McDonald's  restaurants/30.html\n",
       "30                            O'Charley's  restaurants/31.html\n",
       "31                           Olive Garden  restaurants/32.html\n",
       "32                     Outback Steakhouse  restaurants/33.html\n",
       "33                          Panda Express  restaurants/34.html\n",
       "34                           Panera Bread  restaurants/35.html\n",
       "35                               Popeye's  restaurants/36.html\n",
       "36                                Quiznos  restaurants/37.html\n",
       "37              Red Robin Gourmet Burgers  restaurants/38.html\n",
       "38                Romano's Macaroni Grill  restaurants/39.html\n",
       "39                           Ruby Tuesday  restaurants/40.html\n",
       "40                                 Subway  restaurants/41.html\n",
       "41                              Taco Bell  restaurants/42.html\n",
       "42                             Taco Bueno  restaurants/43.html\n",
       "43                                Wendy's  restaurants/44.html"
      ]
     },
     "execution_count": 47,
     "metadata": {},
     "output_type": "execute_result"
    }
   ],
   "source": [
    "table2"
   ]
  },
  {
   "cell_type": "code",
   "execution_count": 48,
   "metadata": {},
   "outputs": [
    {
     "data": {
      "text/plain": [
       "[{'name': 'A&W Restaurants', 'href': 'restaurants/1.html'},\n",
       " {'name': \"Applebee's\", 'href': 'restaurants/2.html'},\n",
       " {'name': \"Arby's\", 'href': 'restaurants/3.html'},\n",
       " {'name': 'Atlanta Bread Company', 'href': 'restaurants/4.html'},\n",
       " {'name': \"Bojangle's Famous Chicken 'n Biscuits\",\n",
       "  'href': 'restaurants/5.html'}]"
      ]
     },
     "execution_count": 48,
     "metadata": {},
     "output_type": "execute_result"
    }
   ],
   "source": [
    "restaurants[0:5]"
   ]
  },
  {
   "cell_type": "markdown",
   "metadata": {},
   "source": [
    "### Step 3: Using the `href`, scrape each restaurant's page and create a single list of food dictionaries.\n",
    "\n",
    "Your list of foods should look something like this:\n",
    "```python\n",
    "foods = [\n",
    "    {\n",
    "        'calories': '0',\n",
    "        'carbs': '0',\n",
    "        'category': 'Drinks',\n",
    "        'fat': '0',\n",
    "        'name': 'A&W® Diet Root Beer',\n",
    "        'restaurant': 'A&W Restaurants'\n",
    "    },\n",
    "    {\n",
    "        'calories': '0',\n",
    "        'carbs': '0',\n",
    "        'category': 'Drinks',\n",
    "        'fat': '0',\n",
    "        'name': 'A&W® Diet Root Beer',\n",
    "        'restaurant': 'A&W Restaurants'\n",
    "    },\n",
    "    ...\n",
    "]\n",
    "```\n",
    "\n",
    "**Note**: Remove extra white space from each category"
   ]
  },
  {
   "cell_type": "code",
   "execution_count": 61,
   "metadata": {},
   "outputs": [],
   "source": [
    "href_list = [restaurants[i]['href'] for i in range(len(restaurants))]"
   ]
  },
  {
   "cell_type": "code",
   "execution_count": 62,
   "metadata": {},
   "outputs": [],
   "source": [
    "base_url = 'https://pages.git.generalassemb.ly/rldaggie/for-scraping/'"
   ]
  },
  {
   "cell_type": "code",
   "execution_count": 71,
   "metadata": {},
   "outputs": [],
   "source": [
    "#code help from stackoverflow.com\n",
    "\n",
    "for x in range(len(href_list)):\n",
    "    res = requests.get(base_url + href_list[x] + '/')\n",
    "    soup = BeautifulSoup(res.content, 'lxml')\n",
    "    table_soup = soup.find_all('tr')\n",
    "    foods = []\n",
    "    \n",
    "    for i in range(1,(len(table_soup))):\n",
    "        food = {}\n",
    "        food['name'] = html.unescape(str(table_soup[i]).split('itemprop=\"name\">')[1].split('</td>')[0])\n",
    "        food['category'] = str(table_soup[i]).split('href=\"/categories/')[1].split('\"')[0]\n",
    "        food['calories'] = str(table_soup[i]).split('calories\">')[1].split('</td>')[0]\n",
    "        food['fat'] = str(table_soup[i]).split('fatContent\">')[1].split('</td>')[0]\n",
    "        food['carbs'] = str(table_soup[i]).split('carbohydrateContent\">')[1].split('</td>')[0]\n",
    "        food['restaurant'] = restaurants[x]['name']\n",
    "\n",
    "        foods.append(food)\n",
    "        \n",
    "    restaurants[x]['foods'] = foods"
   ]
  },
  {
   "cell_type": "markdown",
   "metadata": {},
   "source": [
    "### Step 4: Create a pandas DataFrame from your list of foods\n",
    "\n",
    "**Note**: Your DataFrame should have 5,131 rows"
   ]
  },
  {
   "cell_type": "code",
   "execution_count": 72,
   "metadata": {},
   "outputs": [],
   "source": [
    "list_of_food_dicts = []\n",
    "for i in range(len(restaurants)):\n",
    "    for x in range(len(restaurants[i]['foods'])):\n",
    "        dict = {}\n",
    "        dict = (restaurants[i]['foods'][x])\n",
    "        list_of_food_dicts.append(dict)"
   ]
  },
  {
   "cell_type": "code",
   "execution_count": 73,
   "metadata": {},
   "outputs": [],
   "source": [
    "df = pd.DataFrame(list_of_food_dicts)"
   ]
  },
  {
   "cell_type": "code",
   "execution_count": 76,
   "metadata": {},
   "outputs": [],
   "source": [
    "#df.head()"
   ]
  },
  {
   "cell_type": "markdown",
   "metadata": {},
   "source": [
    "### Step 5: Export to csv\n",
    "\n",
    "**Note:** Don't export the index column from your DataFrame"
   ]
  },
  {
   "cell_type": "code",
   "execution_count": 75,
   "metadata": {},
   "outputs": [],
   "source": [
    "df.to_csv('restuarants_dataframe.csv', index=False, sep=\",\")"
   ]
  },
  {
   "cell_type": "code",
   "execution_count": null,
   "metadata": {},
   "outputs": [],
   "source": []
  }
 ],
 "metadata": {
  "kernelspec": {
   "display_name": "Python 3",
   "language": "python",
   "name": "python3"
  },
  "language_info": {
   "codemirror_mode": {
    "name": "ipython",
    "version": 3
   },
   "file_extension": ".py",
   "mimetype": "text/x-python",
   "name": "python",
   "nbconvert_exporter": "python",
   "pygments_lexer": "ipython3",
   "version": "3.7.6"
  }
 },
 "nbformat": 4,
 "nbformat_minor": 4
}
